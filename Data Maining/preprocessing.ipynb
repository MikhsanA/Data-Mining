{
 "cells": [
  {
   "cell_type": "code",
   "execution_count": 29,
   "metadata": {},
   "outputs": [
    {
     "name": "stdout",
     "output_type": "stream",
     "text": [
      "Data Awal:\n",
      "    Nama  Usia      Alamat         Pekerjaan\n",
      "0   Andi  25.0     Jakarta               PNS\n",
      "1   Budi  30.0     Bandung            Swasta\n",
      "2  Cindy   NaN    Surabaya  Ibu Rumah Tangga\n",
      "3  David  28.0         NaN        Wiraswasta\n",
      "4    Eva  35.0  Yogyakarta             Dosen\n",
      "\n",
      "Data setelah menghapus baris yang mengandung nilai null:\n",
      "   Nama  Usia      Alamat Pekerjaan\n",
      "0  Andi  25.0     Jakarta       PNS\n",
      "1  Budi  30.0     Bandung    Swasta\n",
      "4   Eva  35.0  Yogyakarta     Dosen\n",
      "\n",
      "Data setelah mengubah tipe data kolom Usia menjadi integer:\n",
      "   Nama  Usia      Alamat Pekerjaan\n",
      "0  Andi    25     Jakarta       PNS\n",
      "1  Budi    30     Bandung    Swasta\n",
      "4   Eva    35  Yogyakarta     Dosen\n",
      "\n",
      "Data setelah mengubah semua huruf pada kolom Alamat menjadi huruf kapital:\n",
      "   Nama  Usia      Alamat Pekerjaan\n",
      "0  Andi    25     JAKARTA       PNS\n",
      "1  Budi    30     BANDUNG    Swasta\n",
      "4   Eva    35  YOGYAKARTA     Dosen\n",
      "\n"
     ]
    }
   ],
   "source": [
    "import pandas as pd\n",
    "import numpy as np\n",
    "\n",
    "# Membuat dataframe dari dataset\n",
    "data = pd.DataFrame({\n",
    "    'Nama': ['Andi', 'Budi', 'Cindy', 'David', 'Eva'],\n",
    "    'Usia': [25, 30, np.nan, 28, 35],\n",
    "    'Alamat': ['Jakarta', 'Bandung', 'Surabaya', np.nan, 'Yogyakarta'],\n",
    "    'Pekerjaan': ['PNS', 'Swasta', 'Ibu Rumah Tangga', 'Wiraswasta', 'Dosen']\n",
    "})\n",
    "\n",
    "# Menampilkan data awal\n",
    "print(\"Data Awal:\")\n",
    "print(data)\n",
    "print()\n",
    "\n",
    "# Menghapus baris yang mengandung nilai null\n",
    "data = data.dropna()\n",
    "\n",
    "# Menampilkan data setelah menghapus baris yang mengandung nilai null\n",
    "print(\"Data setelah menghapus baris yang mengandung nilai null:\")\n",
    "print(data)\n",
    "print()\n",
    "\n",
    "# Mengubah kolom Usia menjadi tipe data integer\n",
    "data['Usia'] = data['Usia'].astype('int')\n",
    "\n",
    "# Menampilkan data setelah mengubah tipe data kolom Usia menjadi integer\n",
    "print(\"Data setelah mengubah tipe data kolom Usia menjadi integer:\")\n",
    "print(data)\n",
    "print()\n",
    "\n",
    "# Mengubah semua huruf pada kolom Alamat menjadi huruf kapital\n",
    "data['Alamat'] = data['Alamat'].str.upper()\n",
    "\n",
    "# Menampilkan data setelah mengubah semua huruf pada kolom Alamat menjadi huruf kapital\n",
    "print(\"Data setelah mengubah semua huruf pada kolom Alamat menjadi huruf kapital:\")\n",
    "print(data)\n",
    "print()"
   ]
  },
  {
   "cell_type": "code",
   "execution_count": null,
   "metadata": {},
   "outputs": [],
   "source": []
  },
  {
   "cell_type": "code",
   "execution_count": null,
   "metadata": {},
   "outputs": [],
   "source": []
  },
  {
   "cell_type": "code",
   "execution_count": null,
   "metadata": {},
   "outputs": [],
   "source": []
  }
 ],
 "metadata": {
  "kernelspec": {
   "display_name": "Python 3",
   "language": "python",
   "name": "python3"
  },
  "language_info": {
   "codemirror_mode": {
    "name": "ipython",
    "version": 3
   },
   "file_extension": ".py",
   "mimetype": "text/x-python",
   "name": "python",
   "nbconvert_exporter": "python",
   "pygments_lexer": "ipython3",
   "version": "3.8.5"
  }
 },
 "nbformat": 4,
 "nbformat_minor": 4
}
